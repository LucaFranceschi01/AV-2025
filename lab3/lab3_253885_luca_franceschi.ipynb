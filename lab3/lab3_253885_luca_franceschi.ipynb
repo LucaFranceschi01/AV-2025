{
 "cells": [
  {
   "cell_type": "markdown",
   "metadata": {
    "id": "BruOV-RmpH_w"
   },
   "source": [
    "# Lab 8: Introduction to Customer segmentation using Hierarchical Clustering and Dendrograms\n",
    "\n",
    "# Practice goals:\n",
    "In this practice, we will deep dive into how Visual Analytics is at the core of the most **interesting and necessary applications** in Business: customer segmentation.\n",
    "Through this real use we will:\n",
    "- Use **dendrograms** to identify the number of cluster\n",
    "- Apply **hierarchical clustering** to segment a customer base\n",
    "- Generate **business insights** from clustering results\n",
    "\n",
    "\n",
    "Recall the Analytics workflow we learned in the lecture that is fully recommended to follow in any Data Science or MLOPS project:\n",
    "\n",
    "\n",
    "\n",
    "![Figure 1](https://drive.google.com/uc?export=view&id=1Bvv1rKSn61iRdz3M1WcsCwtR7K5n0hTB)\n",
    "\n",
    "\n",
    "<center> Figure 1</center>\n",
    "\n",
    "### Due date: during the lab session. It is not allowed to send it after the session\n",
    "### Submission procedure: via Moodle.\n",
    "### Complete with your Name: Luca Franceschi\n",
    "### Complete with your NIA: 253885\n"
   ]
  },
  {
   "cell_type": "markdown",
   "metadata": {
    "id": "_li3u6fcpH_x"
   },
   "source": [
    "\n",
    "# Context:  Visual Analytics for Customer segmentation\n",
    "\n",
    "In any sector or Industry, knowing and understanding the customer behavior is key. As Data Scientist we should be ready to answer questions as: “Can you identify which of our current customers should we target for our new product?” or \"How are our customers that buy product A, B or D?\". In other words, segmentating the customer base is so important in order to any organization can tailor and build targeted strategies.\n",
    "\n",
    "As explained in the Lecture class, a customer segmentation could be considered as a **unsupervised learning** case where there is not a **unique** solution because it depends on the design principles as **similarity**, **number of clusters**,.... It’s a challenging use case as a data scientist.\n",
    "\n",
    "During this lab, our aim is to create a segmentation based on a clustering process to group customers that are \"similar\" among them. We will use a Hierarchical Clustering for this use case. However, this real use case can also be solved using other clustering techniques as K-Means or Mixture of Gaussians.\n",
    "\n",
    "\n",
    "## Dataset\n",
    "\n",
    "For this practice, we will use a customer base of a e-commerce. In particular, the dataset contains the following variables:\n",
    "\n",
    "- `CustomerID`: Identication of the customer\n",
    "\n",
    "- `Genre`: Takes values of male or female\n",
    "\n",
    "- `Age`: corresponding to the customerID\n",
    "\n",
    "- `Annual_income`: customers' annual revenues (in K€)\n",
    "\n",
    "- `Spending_score`: evaluation (from 1 to 100) done by the shop to its customers based the purchase frequency and other conditions\n"
   ]
  },
  {
   "cell_type": "markdown",
   "metadata": {
    "id": "96_9D0SFpH_y"
   },
   "source": [
    "## Imports"
   ]
  },
  {
   "cell_type": "code",
   "execution_count": null,
   "metadata": {
    "executionInfo": {
     "elapsed": 2215,
     "status": "ok",
     "timestamp": 1698828901126,
     "user": {
      "displayName": "MIGUEL ANGEL CORDOBES ARANDA",
      "userId": "03161467566781317935"
     },
     "user_tz": -60
    },
    "id": "BROIYcOkpH_y"
   },
   "outputs": [],
   "source": [
    "import pandas as pd\n",
    "import seaborn as sns\n",
    "from matplotlib import pyplot\n",
    "from collections import Counter\n",
    "import matplotlib.pyplot as plt\n",
    "import numpy as np\n",
    "import pandas as pd\n",
    "import scipy.cluster.hierarchy as sch"
   ]
  },
  {
   "cell_type": "markdown",
   "metadata": {
    "id": "Ps7lkUkQJmuk"
   },
   "source": [
    "# Data understanding and preparation"
   ]
  },
  {
   "cell_type": "markdown",
   "metadata": {
    "id": "25Sj9ucPJmuk"
   },
   "source": [
    "Once the **Challenge/Problem definition** and **Data gathering** stages are covered (see Figure 1), the next step is the **Exploration Data Analysis and Transformation**. In this stage, Visual Analytics takes a key role to explore and understand the features and their relationships between them. Thanks to this process, a data scientist will have more context to determine the algorithm(s) to apply to the data according to the **Challenge/Problem definition**.\n",
    "\n",
    "Transformation that also includes **data cleaning, structuring and enriching** is also named **data wrangling**.\n"
   ]
  },
  {
   "cell_type": "markdown",
   "metadata": {
    "id": "nR1Vz0TPpH_y"
   },
   "source": [
    "## Read the data\n",
    "\n",
    "Let's open the csv with separator \",\" and assign to a dataframe variable (use read_csv from Pandas library). Let's see the top 5 elements."
   ]
  },
  {
   "cell_type": "code",
   "execution_count": null,
   "metadata": {
    "id": "DIS4t_99pH_y"
   },
   "outputs": [],
   "source": [
    "# define the dataset location\n",
    "route=\"data\"\n",
    "filename = '/Mall_Customers.csv'\n",
    "sep=\",\"\n",
    "encoding=\"utf-8\"\n",
    "total_route=route+filename\n",
    "\n",
    "\n",
    "# Set Pandas to show all the columns\n",
    "pd.set_option('display.max_columns', None)\n",
    "# Read the data as a dataframe\n",
    "data = pd.read_csv(total_route)"
   ]
  },
  {
   "cell_type": "code",
   "execution_count": null,
   "metadata": {
    "colab": {
     "base_uri": "https://localhost:8080/",
     "height": 206
    },
    "executionInfo": {
     "elapsed": 7,
     "status": "ok",
     "timestamp": 1698779350511,
     "user": {
      "displayName": "MIGUEL ANGEL CORDOBES ARANDA",
      "userId": "03161467566781317935"
     },
     "user_tz": -60
    },
    "id": "ZKIydE1WpH_z",
    "outputId": "b8aaa9e4-368c-4a14-bcf8-5205193011d9"
   },
   "outputs": [],
   "source": [
    "data.head()"
   ]
  },
  {
   "cell_type": "markdown",
   "metadata": {
    "id": "S_HhiwQppH_z"
   },
   "source": [
    "\n",
    "## Dataset Exploratory Data Analysis (EDA)"
   ]
  },
  {
   "cell_type": "markdown",
   "metadata": {
    "id": "yZdXjlz0Jmup"
   },
   "source": [
    "[**EX1**] Analyze the main characteristics (type of variables, number of records, nulls, etc...) of the variables of the dataset and answer the following questions bellow:\n",
    "\n",
    "\n",
    "Tip: [.info()](https://www.geeksforgeeks.org/python-pandas-dataframe-info/) is a function that reports the main characteristics of a dataframe.\n",
    "\n",
    "Tip: [Counter()](https://docs.python.org/3/library/collections.html) is a function from **collections** library to identify the number of categories and number of samples per category in a variable.\n",
    "\n",
    "\n"
   ]
  },
  {
   "cell_type": "code",
   "execution_count": null,
   "metadata": {
    "colab": {
     "base_uri": "https://localhost:8080/"
    },
    "executionInfo": {
     "elapsed": 5,
     "status": "ok",
     "timestamp": 1698780020517,
     "user": {
      "displayName": "MIGUEL ANGEL CORDOBES ARANDA",
      "userId": "03161467566781317935"
     },
     "user_tz": -60
    },
    "id": "86DQyHttpH_z",
    "outputId": "733001ff-35c2-4dc8-a1a0-7e572cc54354"
   },
   "outputs": [],
   "source": [
    "#Identify the main characteristics\n",
    "data.info()\n",
    "#Summarize the class distribution\n",
    "counter = Counter(data.values[:,1])\n",
    "for category, count in counter.items():\n",
    "\tratio = count / len(data) * 100\n",
    "\tprint('Class=%s, Count=%d, Percentage=%.3f%%' % (category, count, ratio))"
   ]
  },
  {
   "cell_type": "markdown",
   "metadata": {
    "id": "FPwkifJGGJ-1"
   },
   "source": [
    "[**Solution**]"
   ]
  },
  {
   "cell_type": "markdown",
   "metadata": {
    "id": "25lSzD8mpH_z"
   },
   "source": [
    "- Which are the types of the variables (integer, float, chart...)? Integer and 1 object (i.e. 1 category)\n",
    "- Which is the the size (number of records) of the dataset and the file? 200\n",
    "- Which are the variable with more nulls? None\n",
    "- Is there any categorical variable? Yes. Genre\n",
    "- Which is the ratio between Male and Female in the dataset? Male: 44% and Female: 56%"
   ]
  },
  {
   "cell_type": "code",
   "execution_count": null,
   "metadata": {
    "id": "jcGVxVwMHxLx"
   },
   "outputs": [],
   "source": []
  },
  {
   "cell_type": "markdown",
   "metadata": {
    "id": "-nVsw3J6pH_z"
   },
   "source": [
    "[**EX2**] Plot the following distribution or histogram of each variable (except of `CustomerID`) using **seaborn** library and answer the following questions:\n",
    "- Which is the distribution of `Age`, `Annual_income`and `Spending_score`?\n",
    "- What insights do you obtain from the distribution of these 3 variables?"
   ]
  },
  {
   "cell_type": "code",
   "execution_count": null,
   "metadata": {
    "id": "fPBMiL2uGQz-"
   },
   "outputs": [],
   "source": [
    "#With Seaborn\n",
    "def plot_distribution(data, attr):\n",
    "    f, axes = plt.subplots(1, 1, figsize=(3, 3), sharex=True)\n",
    "    ax1= sns.histplot(data, x=attr , color=\"skyblue\", ax=axes, bins=30, kde=True)\n",
    "    sns.despine(top=True, right=True, left=True)\n",
    "    f.suptitle(f'{attr} Histogram', fontsize=14)\n",
    "\n",
    "# Plot the distributions\n",
    "data_aux=data.iloc[:,2:]\n",
    "column_names=data_aux.columns\n",
    "\n",
    "for column in column_names:\n",
    "    plot_distribution(data_aux, column)"
   ]
  },
  {
   "cell_type": "markdown",
   "metadata": {
    "id": "jTx3rFA1pH_z"
   },
   "source": [
    "**[Solution]**"
   ]
  },
  {
   "cell_type": "markdown",
   "metadata": {},
   "source": [
    "Seemingly there is not a clear distribution pattern of the data."
   ]
  },
  {
   "cell_type": "markdown",
   "metadata": {
    "id": "luPD-A3JpH_z"
   },
   "source": [
    "[**EX3**]  Use the **Seaborn** library to plot, for every `age`, `annual income` and `spending score` features, a histogram per class (i.e. male and female) and one plot combining both classes' distributions (i.e. `male`vs `female`).\n",
    "\n",
    "- Which are the variables with most differentiated distributions between both genres?\n",
    "- Which features could be the most interesting to distinguish male vs female? Justify your answer?"
   ]
  },
  {
   "cell_type": "markdown",
   "metadata": {
    "id": "lH4RLqqWpH_0"
   },
   "source": [
    "[**Solution**]"
   ]
  },
  {
   "cell_type": "code",
   "execution_count": null,
   "metadata": {},
   "outputs": [],
   "source": [
    "def plot_distribution_by_genre(data, attr):\n",
    "    f, axes = plt.subplots(1, 3, figsize=(20, 5), sharex=True)\n",
    "\n",
    "    ax1 = sns.histplot(data[data['Genre'] == 'Male'], x=attr, bins=30, kde=True, ax=axes[0])\n",
    "    ax1.set_title(f'{attr}: Male Distribution')\n",
    "\n",
    "    ax2 = sns.histplot(data[data['Genre'] == 'Female'], x=attr, bins=30, kde=True, ax=axes[1])\n",
    "    ax2.set_title(f'{attr}: Female Distribution')\n",
    "\n",
    "    ax3 = sns.histplot(data, x=attr, bins=30, kde=True, ax=axes[2], hue='Genre', multiple=\"stack\")\n",
    "    ax3.set_title(f'{attr}: Combined Distribution')\n",
    "\n",
    "    sns.despine(top=True, right=True, left=True)\n",
    "    f.suptitle(f'{attr} Distribution', fontsize=14)\n",
    "\n",
    "    plt.show()\n",
    "\n",
    "data_aux = data.iloc[:, 2:]\n",
    "column_names = data_aux.columns\n",
    "\n",
    "for column in column_names:\n",
    "    plot_distribution_by_genre(data, column)"
   ]
  },
  {
   "cell_type": "markdown",
   "metadata": {},
   "source": [
    "They seem to follow similar distributions. "
   ]
  },
  {
   "cell_type": "markdown",
   "metadata": {
    "id": "vP1brreJpH_0"
   },
   "source": [
    "[**EX4**] Using **Seaborn** libraries, draw a box plot for `Age`, `Annual_income` and `Spending_score` against male and female categories. Answer the following questions:\n",
    "- Which variable presents more outliers?\n",
    "- Which is Q1, Q2 (or median), Q3 for these variables of `female` registers?"
   ]
  },
  {
   "cell_type": "markdown",
   "metadata": {
    "id": "z-WuWsf1pH_0"
   },
   "source": [
    "[**Solution**]"
   ]
  },
  {
   "cell_type": "code",
   "execution_count": null,
   "metadata": {
    "id": "-Z2EoFOZTK5q"
   },
   "outputs": [],
   "source": [
    "fig, axes = plt.subplots(1, 3, figsize=(20, 5))\n",
    "\n",
    "sns.boxplot(x='Genre', y='Age', data=data, hue='Genre', ax=axes[0])\n",
    "axes[0].set_title('Age Distribution by Gender')\n",
    "\n",
    "sns.boxplot(x='Genre', y='Annual_income', data=data, hue='Genre', ax=axes[1])\n",
    "axes[1].set_title('Annual Income Distribution by Gender')\n",
    "\n",
    "sns.boxplot(x='Genre', y='Spending_score', data=data, hue='Genre', ax=axes[2])\n",
    "axes[2].set_title('Spending Score Distribution by Gender')\n",
    "\n",
    "plt.tight_layout()\n",
    "plt.show()"
   ]
  },
  {
   "cell_type": "markdown",
   "metadata": {},
   "source": [
    "Annual income presents more outliers. E.g.: in the first plot, Q1 is around 30; median is around 35; and Q3 is around 48."
   ]
  },
  {
   "cell_type": "markdown",
   "metadata": {
    "id": "CV1FTuR4pH_0"
   },
   "source": [
    "[**EX5**] To understand the relationship between features, the matrix correlation is a key measure. Calculate and plot the correlation matrix for the original dataset with a **heatmap** and **correlation value** for each variable in the matrix"
   ]
  },
  {
   "cell_type": "markdown",
   "metadata": {
    "id": "r0POQeoApH_0"
   },
   "source": [
    "[**Solution**]"
   ]
  },
  {
   "cell_type": "code",
   "execution_count": null,
   "metadata": {
    "id": "TuSuBXdlTqdm"
   },
   "outputs": [],
   "source": [
    "corr_matrix = data.corr(numeric_only=True)\n",
    "sns.set_theme(rc = {'figure.figsize':(15, 10)})\n",
    "sns.heatmap(corr_matrix, annot=True)\n",
    "plt.show()"
   ]
  },
  {
   "cell_type": "markdown",
   "metadata": {
    "id": "3iI6kEbApH_0"
   },
   "source": [
    "[**EX6**] Execute this 3D scatter plot between `Age`, `Annual_income`and `Spending_score` using **plotly** library. Answer the following questions:\n",
    "- Do you think a decision boundary to classify the dataset between `male` and `female` is feasible? Justify your answer.\n",
    "- Do you identify any group or cluster in the data? Justify your answer.\n",
    "\n",
    "**Tip**: Visit [plotly'3D Scatter Plot with go.Scatter3d ](https://plotly.com/python/3d-scatter-plots/) for further information"
   ]
  },
  {
   "cell_type": "code",
   "execution_count": null,
   "metadata": {
    "colab": {
     "base_uri": "https://localhost:8080/",
     "height": 594
    },
    "executionInfo": {
     "elapsed": 9007,
     "status": "ok",
     "timestamp": 1698572753287,
     "user": {
      "displayName": "MIGUEL ANGEL CORDOBES ARANDA",
      "userId": "03161467566781317935"
     },
     "user_tz": -60
    },
    "id": "uKQxYe-7pH_0",
    "outputId": "077d7de3-0360-47b7-97ff-66004877fcef"
   },
   "outputs": [],
   "source": [
    "#Import the library\n",
    "import plotly as py\n",
    "import plotly.graph_objs as go\n",
    "from plotly.offline import init_notebook_mode, iplot\n",
    "\n",
    "male=data[data[\"Genre\"]==\"Male\"]\n",
    "female=data[data[\"Genre\"]==\"Female\"]\n",
    "\n",
    "# Female\n",
    "female_scatter = go.Scatter3d(\n",
    "                        x = female.Age,\n",
    "                        y = female.Annual_income,\n",
    "                        z = female.Spending_score,\n",
    "                        mode = 'markers',\n",
    "                        opacity = 0.7,\n",
    "                        name = \"female\",\n",
    "                        marker = dict(size = 3)\n",
    ")\n",
    "\n",
    "# Male\n",
    "male_scatter= go.Scatter3d(\n",
    "                        x = male.Age,\n",
    "                        y = male.Annual_income,\n",
    "                        z = male.Spending_score,\n",
    "                        mode = 'markers',\n",
    "                        opacity = 0.7,\n",
    "                        name = \"male\",\n",
    "                        marker = dict(size = 3)\n",
    ")\n",
    "\n",
    "\n",
    "list_3d = [female_scatter, male_scatter]\n",
    "\n",
    "fig_3d = go.Figure(data = list_3d)\n",
    "iplot(fig_3d)"
   ]
  },
  {
   "cell_type": "markdown",
   "metadata": {
    "id": "uTTA-RQPpH_0"
   },
   "source": [
    "[**Solution**]"
   ]
  },
  {
   "cell_type": "markdown",
   "metadata": {},
   "source": [
    "I think it is not feasible with this set of variables. Since the datapoints do not seem to have a different pattern based on Genre.\n",
    "Data is definitely clustered in small chunks (forming kind of an X-shaped scatter plot)."
   ]
  },
  {
   "cell_type": "markdown",
   "metadata": {
    "id": "VAzHebXPpH_1"
   },
   "source": [
    "## Data wrangling: Data normalization"
   ]
  },
  {
   "cell_type": "markdown",
   "metadata": {
    "id": "6R1bzVxOpH_1"
   },
   "source": [
    "### Values normalization\n",
    "But before applying Hierarchical Clustering, we should think about the necessity to normalize the data so that the scale of each variable is the same.\n",
    "Why is this important? If the scale of the variables is not the same, the model might become biased towards the variables with a higher magnitude.\n"
   ]
  },
  {
   "cell_type": "markdown",
   "metadata": {
    "id": "DyjKmFUQpH_1"
   },
   "source": [
    "[**EX7**] From the previous section outcome, i.e. EDA (Exploratory Data Analysis), do you consider **data normalization** is required? In affirmative case, normalize the data and re-plot a histogram per class (i.e. `male`vs `female`) and one plot combining both classes' distributions."
   ]
  },
  {
   "cell_type": "markdown",
   "metadata": {
    "id": "Joo-RfCwH4kD"
   },
   "source": [
    "[**Solution**]"
   ]
  },
  {
   "cell_type": "markdown",
   "metadata": {},
   "source": [
    "We should normalize data since there are some features (e.g.: income that can get out of hand really quickly)."
   ]
  },
  {
   "cell_type": "markdown",
   "metadata": {
    "id": "nmRFhhtU2Ffa"
   },
   "source": [
    "[**EX8**] Execute the following code to normalize data and plot the same charts as **EX3**. Is there any significant difference? Justify your reason."
   ]
  },
  {
   "cell_type": "code",
   "execution_count": null,
   "metadata": {
    "colab": {
     "base_uri": "https://localhost:8080/",
     "height": 206
    },
    "executionInfo": {
     "elapsed": 387,
     "status": "ok",
     "timestamp": 1698780361676,
     "user": {
      "displayName": "MIGUEL ANGEL CORDOBES ARANDA",
      "userId": "03161467566781317935"
     },
     "user_tz": -60
    },
    "id": "gMXmO2eGpH_1",
    "outputId": "c67a94d6-1c22-40e1-d89c-a8c92311aa64"
   },
   "outputs": [],
   "source": [
    "#In case of deciding apply a normalization in the data we could use:\n",
    "from sklearn.preprocessing import normalize\n",
    "data_scaled = normalize(data.iloc[:,2:])\n",
    "data_scaled = pd.DataFrame(data_scaled, columns=data.columns[2:])\n",
    "data_scaled['Genre']=data['Genre']\n",
    "data_scaled = data_scaled[[\"Genre\", \"Age\", \"Annual_income\", \"Spending_score\"]]\n",
    "data_scaled.head()"
   ]
  },
  {
   "cell_type": "markdown",
   "metadata": {
    "id": "edgOhSyEG3XS"
   },
   "source": [
    "[**Solution**]"
   ]
  },
  {
   "cell_type": "code",
   "execution_count": null,
   "metadata": {
    "id": "6fk7iLCHH667"
   },
   "outputs": [],
   "source": [
    "data_aux = data_scaled.iloc[:,1:]\n",
    "column_names = data_aux.columns\n",
    "\n",
    "for column in column_names:\n",
    "    plot_distribution_by_genre(data_scaled, column)"
   ]
  },
  {
   "cell_type": "markdown",
   "metadata": {},
   "source": [
    "I would say there is no significant difference."
   ]
  },
  {
   "cell_type": "markdown",
   "metadata": {
    "id": "og5UwQUUpH_1"
   },
   "source": [
    "# Clustering modelling"
   ]
  },
  {
   "cell_type": "markdown",
   "metadata": {
    "id": "Dym85BULpH_1"
   },
   "source": [
    "## Hierarchical clustering review"
   ]
  },
  {
   "cell_type": "markdown",
   "metadata": {
    "id": "2UHGuf6cpH_1"
   },
   "source": [
    "This section is based on the web page: https://www.analyticsvidhya.com/blog/2019/05/beginners-guide-hierarchical-clustering/ and https://medium.com/@daython3/segmenting-customer-groups-a-comparative-study-of-hierarchical-and-k-means-clustering-methods-for-f35946d52810\n",
    "\n",
    "\n",
    "Hierarchical clustering is a bottom-up approach, where each data point starts as a separate cluster and then clusters are successively merged based on their similarity until a single cluster containing all data points is formed.\n",
    "\n",
    "K-means clustering is a top-down approach, where the number of clusters is fixed in advance, and the algorithm assigns each data point to the nearest cluster centre, known as a centroid. The algorithm then updates the centroids based on the mean of the data points assigned to each cluster and repeats the process until the centroids converge.\n",
    "\n",
    "Both hierarchical and k-means clustering have their own advantages and disadvantages, and the choice of approach depends on the data and the goals of the analysis. Understanding the differences between these two types of clustering algorithms is crucial for choosing the right approach for a given task.\n",
    "\n"
   ]
  },
  {
   "cell_type": "markdown",
   "metadata": {
    "id": "gK4MX-FqpH_1"
   },
   "source": [
    "### Setting up the Example"
   ]
  },
  {
   "cell_type": "markdown",
   "metadata": {
    "id": "qQhINteRpH_2"
   },
   "source": [
    "Suppose a teacher wants to divide her students into different groups. She has the marks scored by each student in an assignment and based on these marks, she wants to segment them into groups. There’s no fixed target here as to how many groups to have. Since the teacher does not know what type of students should be assigned to which group, it cannot be solved as a supervised learning problem. So, we will try to apply hierarchical clustering here and segment the students into different groups.\n",
    "\n",
    "Let’s take a sample of 5 students:\n",
    "\n",
    "![Figure 2](https://drive.google.com/uc?export=view&id=1ouNaYCv0a1EurdKwV5c2iLEMSW_H2Ap2)\n",
    "\n",
    "\n"
   ]
  },
  {
   "cell_type": "markdown",
   "metadata": {
    "id": "KLiybNfjpH_2"
   },
   "source": [
    "### Creating Proximity Matrix"
   ]
  },
  {
   "cell_type": "markdown",
   "metadata": {
    "id": "jAloAYvipH_2"
   },
   "source": [
    "First, we will create a proximity matrix which will tell us the distance between each of these points. Since we are calculating the distance of each point from each of the other points, we will get a square matrix of shape n X n (where n is the number of observations).\n",
    "\n",
    "Let’s make the 5 x 5 proximity matrix for our example:\n",
    "\n",
    "\n",
    "![Figure 3](https://drive.google.com/uc?export=view&id=1gRMOj6yV3AUPFulmiw30EyD-FdJn-Ppv)\n",
    "\n",
    "\n"
   ]
  },
  {
   "cell_type": "markdown",
   "metadata": {
    "id": "rYkOctO_pH_2"
   },
   "source": [
    "The diagonal elements of this matrix will always be 0 as the distance of a point with itself is always 0. We will use the Euclidean distance formula to calculate the rest of the distances. So, let’s say we want to calculate the distance between point 1 and 2:\n",
    "\n",
    "√(10-7)^2 = √9 = 3\n",
    "\n",
    "Similarly, we can calculate all the distances and fill the proximity matrix."
   ]
  },
  {
   "cell_type": "markdown",
   "metadata": {
    "id": "Z1EUkuLypH_2"
   },
   "source": [
    "### Steps to Perform Hierarchical Clustering"
   ]
  },
  {
   "cell_type": "markdown",
   "metadata": {
    "id": "bKBZUx_qpH_2"
   },
   "source": [
    "- **Step 1:** First, we assign all the points to an individual cluster:\n",
    "\n",
    "![Figure 4](https://drive.google.com/uc?export=view&id=1VMW8Z1BDqZZVPcV-16_l6TI5B8HY6mJ2)\n",
    "\n",
    "\n",
    "\n",
    "Different colors here represent different clusters. You can see that we have 5 different clusters for the 5 points in our data.\n",
    "\n",
    "- **Step 2:** Next, we will look at the smallest distance in the proximity matrix and merge the points with the smallest distance. We then update the proximity matrix:\n",
    "\n",
    "![Figure 5](https://drive.google.com/uc?export=view&id=1ceoOiUKxXSQHoDRZDxMhYqlfKfE2sgbN)\n",
    "\n",
    "\n",
    "\n",
    "Here, the smallest distance is 3 and hence we will merge point 1 and 2:\n",
    "\n",
    "\n",
    "![Figure 6](https://drive.google.com/uc?export=view&id=1sAw0Zh97az9EeIyiZ4061EFUIxcU8xXV)\n",
    "\n",
    "\n",
    "\n",
    "Let’s look at the updated clusters and accordingly update the proximity matrix:\n",
    "\n",
    "\n",
    "![Figure 7](https://drive.google.com/uc?export=view&id=1Wr7lFzU3uwdLSn551kBy07WJhUhPb-VP)\n",
    "\n",
    "\n",
    "\n",
    "Here, we have taken the maximum of the two marks (7, 10) to replace the marks for this cluster. Instead of the maximum, we can also take the minimum value or the average values as well. Now, we will again calculate the proximity matrix for these clusters:\n",
    "\n",
    "![Figure 8](https://drive.google.com/uc?export=view&id=1HAWuMjHWXAyXl2GuKlY16P8DCsYPmoAD)\n",
    "\n",
    "\n",
    "**Step 3:** We will repeat step 2 until only a single cluster is left.\n",
    "\n",
    "So, we will first look at the minimum distance in the proximity matrix and then merge the closest pair of clusters. We will get the merged clusters as shown below after repeating these steps:\n",
    "\n",
    "![Figure 9](https://drive.google.com/uc?export=view&id=1LbP4QAKB6erJR3OK8JNxW8G431KsjHIT)\n",
    "\n",
    "\n",
    "\n",
    "We started with 5 clusters and finally have a single cluster. This is how agglomerative hierarchical clustering works. But the burning question still remains – how do we decide the number of clusters? Let’s understand that in the next section.\n",
    "\n"
   ]
  },
  {
   "cell_type": "markdown",
   "metadata": {
    "id": "E2qciwV1pH_2"
   },
   "source": [
    "### How should we Choose the Number of Clusters in Hierarchical Clustering?"
   ]
  },
  {
   "cell_type": "markdown",
   "metadata": {
    "id": "QKEiuShnpH_2"
   },
   "source": [
    "Ready to finally answer this question that’s been hanging around since we started learning? To get the number of clusters for hierarchical clustering, we make use of an awesome concept called a Dendrogram.\n",
    "\n",
    "Let’s get back to our teacher-student example. Whenever we merge two clusters, a dendrogram will record the distance between these clusters and represent it in graph form. Let’s see how a dendrogram looks like:\n",
    "\n",
    "\n",
    "![Figure 10](https://drive.google.com/uc?export=view&id=1wfegqu3s6LbWpas5aIbXzvgKY1FjViwK)\n",
    "\n",
    "\n",
    "We have the samples of the dataset on the x-axis and the distance on the y-axis. Whenever two clusters are merged, we will join them in this dendrogram and the height of the join will be the distance between these points. Let’s build the dendrogram for our example:\n",
    "\n",
    "\n",
    "![Figure 9](https://drive.google.com/uc?export=view&id=1LbP4QAKB6erJR3OK8JNxW8G431KsjHIT)\n",
    "\n",
    "\n",
    "Take a moment to process the above image. We started by merging sample 1 and 2 and the distance between these two samples was 3 (refer to the first proximity matrix in the previous section). Let’s plot this in the dendrogram:\n",
    "\n",
    "\n",
    "![Figure 11](https://drive.google.com/uc?export=view&id=1O_KRhAMWN8WnbodvRod7d7KPSVeNAq9T)\n",
    "\n",
    "\n",
    "\n",
    "Here, we can see that we have merged sample 1 and 2. The vertical line represents the distance between these samples. Similarly, we plot all the steps where we merged the clusters and finally, we get a dendrogram like this:\n",
    "\n",
    "![Figure 12](https://drive.google.com/uc?export=view&id=1xayyhM-iFItJyMfP7WdoXcQhJE5CiR0V)\n",
    "\n",
    "\n",
    "We can clearly visualize the steps of hierarchical clustering. More the distance of the vertical lines in the dendrogram, more the distance between those clusters.\n",
    "\n",
    "Now, we can set a threshold distance and draw a horizontal line (Generally, we try to set the threshold in such a way that it cuts the tallest vertical line). Let’s set this threshold as 12 and draw a horizontal line:\n",
    "\n",
    "\n",
    "\n",
    "![Figure 12](https://drive.google.com/uc?export=view&id=1Xlx2ZuzaiiNH7OsAN80pJV-MAGg2KVp8)\n",
    "\n",
    "\n",
    "The number of clusters will be the number of vertical lines which are being intersected by the line drawn using the threshold. In the above example, since the red line intersects 2 vertical lines, we will have 2 clusters. One cluster will have a sample (1,2,4) and the other will have a sample (3,5). Pretty straightforward, right?\n",
    "\n",
    "This is how we can decide the number of clusters using a dendrogram in Hierarchical Clustering. In the next section, we will implement hierarchical clustering which will help you to understand all the concepts that we have learned in this article."
   ]
  },
  {
   "cell_type": "markdown",
   "metadata": {
    "id": "gpWolCCkpH_2"
   },
   "source": [
    "## Modelling"
   ]
  },
  {
   "cell_type": "markdown",
   "metadata": {
    "id": "38MYxFxvpH_2"
   },
   "source": [
    "Let's create a new dataframe based on `Age`, `Annual_income`and `Spending_score`."
   ]
  },
  {
   "cell_type": "code",
   "execution_count": null,
   "metadata": {
    "colab": {
     "base_uri": "https://localhost:8080/",
     "height": 206
    },
    "executionInfo": {
     "elapsed": 386,
     "status": "ok",
     "timestamp": 1698780462153,
     "user": {
      "displayName": "MIGUEL ANGEL CORDOBES ARANDA",
      "userId": "03161467566781317935"
     },
     "user_tz": -60
    },
    "id": "m1lGdn6fpH_2",
    "outputId": "75cfe132-eb44-470c-f225-17f8b35a9394"
   },
   "outputs": [],
   "source": [
    "data.head()"
   ]
  },
  {
   "cell_type": "markdown",
   "metadata": {
    "id": "h-aLtNKWpH_2"
   },
   "source": [
    "### Looking for the most descriptive variables: first clustering model"
   ]
  },
  {
   "cell_type": "markdown",
   "metadata": {
    "id": "u2ajrcKipH_2"
   },
   "source": [
    "One of the critical aspects in the clustering process is to select the variable from which the clustering model identifies groups with a meaning from a real use case perspective. This process is usually iterative; i.e. we start with a set of features more significant from a business perspective and apply a clustering model. If results are not good enough from a clustering performance, we repeat the process with other set of features until the outcome presents a good performance from analytics perspective and are also understanding from a real use case perspective."
   ]
  },
  {
   "cell_type": "markdown",
   "metadata": {
    "id": "MgPBScrwpH_2"
   },
   "source": [
    "[**EX9**] Execute the following piece of code that creates a `X` matrix formed by `Annual_income`and `Spending_score`variables and builds and represents a dendrogram using the **Ward methodology**.\n",
    "\n",
    "Answer the following questions:\n",
    "\n",
    "- Which is the largest blue line?\n",
    "- How many cluster do you choice? Justify your answer\n",
    "\n",
    "Tip: Use the [cluster.hierarchy](https://docs.scipy.org/doc/scipy/reference/cluster.hierarchy.html) library from scipy to create a dendrogram"
   ]
  },
  {
   "cell_type": "code",
   "execution_count": null,
   "metadata": {
    "colab": {
     "base_uri": "https://localhost:8080/",
     "height": 471
    },
    "executionInfo": {
     "elapsed": 2515,
     "status": "ok",
     "timestamp": 1698780489033,
     "user": {
      "displayName": "MIGUEL ANGEL CORDOBES ARANDA",
      "userId": "03161467566781317935"
     },
     "user_tz": -60
    },
    "id": "jyxIfhlI8NeR",
    "outputId": "32db031d-8792-47da-9219-aeb1acba79ee"
   },
   "outputs": [],
   "source": [
    "X = data.iloc[:, 3:].values\n",
    "hier_clust=sch.linkage(X, method = 'ward')\n",
    "dendrogram = sch.dendrogram(hier_clust)\n",
    "\n",
    "plt.title('Dendrogram')\n",
    "plt.xlabel('Customers')\n",
    "plt.ylabel('Euclidean distance')\n",
    "plt.show()"
   ]
  },
  {
   "cell_type": "markdown",
   "metadata": {
    "id": "U30JgK0ZpH_2"
   },
   "source": [
    "[**Solution**]"
   ]
  },
  {
   "cell_type": "markdown",
   "metadata": {},
   "source": [
    "The largest blue line is the one between clusters 2 and 3 (largest distance).\n",
    "I would say that there are 3 main clusters, with possibility of dividing into 5 depending on the use case, though it would require a more in-depth analysis."
   ]
  },
  {
   "cell_type": "markdown",
   "metadata": {
    "id": "GZ7T5bgI_9lu"
   },
   "source": [
    "[**EX10**] Execute the following piece of code that creates a `X` matrix formed by `Annual_income`and `Spending_score`variables and builds and represents a dendrogram using the **Ward methodology**. Which are the main differences in terms of visualization with respecto to **EX09**?"
   ]
  },
  {
   "cell_type": "code",
   "execution_count": null,
   "metadata": {
    "colab": {
     "base_uri": "https://localhost:8080/",
     "height": 448
    },
    "executionInfo": {
     "elapsed": 417,
     "status": "ok",
     "timestamp": 1698780524818,
     "user": {
      "displayName": "MIGUEL ANGEL CORDOBES ARANDA",
      "userId": "03161467566781317935"
     },
     "user_tz": -60
    },
    "id": "R7PemHMJpH_2",
    "outputId": "cf8d9bfd-ffc8-464c-aae5-84c6a67cbc11"
   },
   "outputs": [],
   "source": [
    "dendrogram = sch.dendrogram(hier_clust, truncate_mode = 'level',\n",
    "           p = 5,\n",
    "           show_leaf_counts=True,\n",
    "           no_labels= True)\n",
    "\n",
    "plt.title('Dendrogram')\n",
    "plt.xlabel('Customers')\n",
    "plt.ylabel('Euclidean distance')\n",
    "plt.show()"
   ]
  },
  {
   "cell_type": "markdown",
   "metadata": {
    "id": "qPCWpeFiHDew"
   },
   "source": [
    "[**Solution**]"
   ]
  },
  {
   "cell_type": "markdown",
   "metadata": {},
   "source": [
    "This dendogram truncates when p<=5 so it looks cleaner in the leafs."
   ]
  },
  {
   "cell_type": "markdown",
   "metadata": {
    "id": "XayRuIwapH_3"
   },
   "source": [
    "[**EX10**] Execute the following Agglomerative Clustering using the sklearn library with the **number of clusters** and number of clusters=5. Let's verify each sample has been assigned to a cluster number in the rank of the **number of clusters** of 5."
   ]
  },
  {
   "cell_type": "code",
   "execution_count": null,
   "metadata": {
    "colab": {
     "base_uri": "https://localhost:8080/"
    },
    "executionInfo": {
     "elapsed": 415,
     "status": "ok",
     "timestamp": 1698780550109,
     "user": {
      "displayName": "MIGUEL ANGEL CORDOBES ARANDA",
      "userId": "03161467566781317935"
     },
     "user_tz": -60
    },
    "id": "2MYKWh0upH_3",
    "outputId": "cee7d9d3-1ad6-4e11-a9c1-df7ed3d5dc30"
   },
   "outputs": [],
   "source": [
    "from sklearn.cluster import AgglomerativeClustering\n",
    "hc = AgglomerativeClustering(n_clusters = 5,\n",
    "                    metric = 'euclidean',\n",
    "                    linkage = 'ward')\n",
    "\n",
    "y_hc = hc.fit_predict(X)"
   ]
  },
  {
   "cell_type": "code",
   "execution_count": null,
   "metadata": {
    "colab": {
     "base_uri": "https://localhost:8080/"
    },
    "executionInfo": {
     "elapsed": 1,
     "status": "ok",
     "timestamp": 1698780551841,
     "user": {
      "displayName": "MIGUEL ANGEL CORDOBES ARANDA",
      "userId": "03161467566781317935"
     },
     "user_tz": -60
    },
    "id": "5CrsNNIUpH_3",
    "outputId": "1a505a8c-75a1-41c5-ca82-669138067764"
   },
   "outputs": [],
   "source": [
    "y_hc"
   ]
  },
  {
   "cell_type": "markdown",
   "metadata": {
    "id": "yjpfdj3gpH_3"
   },
   "source": [
    "[**EX11**] Execute the following scatter plot between `Annual_income`and `Spending_score` features. Describe with your words what type of customers are in cluster 1 and cluster 4."
   ]
  },
  {
   "cell_type": "code",
   "execution_count": null,
   "metadata": {
    "colab": {
     "base_uri": "https://localhost:8080/",
     "height": 472
    },
    "executionInfo": {
     "elapsed": 1057,
     "status": "ok",
     "timestamp": 1698780575585,
     "user": {
      "displayName": "MIGUEL ANGEL CORDOBES ARANDA",
      "userId": "03161467566781317935"
     },
     "user_tz": -60
    },
    "id": "Xzci-_mApH_3",
    "outputId": "2acac361-f6d1-4235-a9dc-fcdefa3b0f71"
   },
   "outputs": [],
   "source": [
    "plt.scatter(X[y_hc == 0, 0], X[y_hc == 0, 1], s = 100, c = 'red', label = 'Cluster 1')\n",
    "plt.scatter(X[y_hc == 1, 0], X[y_hc == 1, 1], s = 100, c = 'blue', label = 'Cluster 2')\n",
    "plt.scatter(X[y_hc == 2, 0], X[y_hc == 2, 1], s = 100, c = 'green', label = 'Cluster 3')\n",
    "plt.scatter(X[y_hc == 3, 0], X[y_hc == 3, 1], s = 100, c = 'cyan', label = 'Cluster 4')\n",
    "plt.scatter(X[y_hc == 4, 0], X[y_hc == 4, 1], s = 100, c = 'magenta', label = 'Cluster 5')\n",
    "plt.title('Clusters of customers')\n",
    "plt.xlabel('Annual Income (k€)')\n",
    "plt.ylabel('Spending Score (1-100)')\n",
    "plt.legend()\n",
    "plt.show()"
   ]
  },
  {
   "cell_type": "markdown",
   "metadata": {
    "id": "LlkoPRhZHMmk"
   },
   "source": [
    "[**Solution**]"
   ]
  },
  {
   "cell_type": "markdown",
   "metadata": {},
   "source": [
    "Cluster 1 contains people with high income and low spending, while cluster 4 contains people with low income and high spending (bad idea)."
   ]
  },
  {
   "cell_type": "markdown",
   "metadata": {
    "id": "sVU0lO7epH_3"
   },
   "source": [
    "[**EX12**] Repeat **EX9**, **EX10** and **EX11** including `Age`variable. Answer the following questions:\n",
    "- which are the differences in the dendrogram visualization?\n",
    "- Represent a `Spending score`vs `Annual Income`, `Annual_income` vs `Age` and  `Spending_score` vs `Age`scatter plots"
   ]
  },
  {
   "cell_type": "markdown",
   "metadata": {
    "id": "MikWXok9pH_3"
   },
   "source": [
    "[**Solution**]"
   ]
  },
  {
   "cell_type": "code",
   "execution_count": null,
   "metadata": {
    "id": "yCJHm4FrICV1"
   },
   "outputs": [],
   "source": [
    "X = data.iloc[:, 2:].values\n",
    "hier_clust=sch.linkage(X, method = 'ward')\n",
    "dendrogram = sch.dendrogram(hier_clust, truncate_mode = 'level',\n",
    "           p = 5,\n",
    "           show_leaf_counts=True,\n",
    "           no_labels= True)\n",
    "\n",
    "plt.title('Dendrogram')\n",
    "plt.xlabel('Customers')\n",
    "plt.ylabel('Euclidean distance')\n",
    "plt.show()"
   ]
  },
  {
   "cell_type": "code",
   "execution_count": null,
   "metadata": {},
   "outputs": [],
   "source": [
    "plt.figure(figsize=(20, 5))\n",
    "\n",
    "plt.subplot(1, 3, 1)\n",
    "plt.scatter(X[y_hc == 0, 0], X[y_hc == 0, 1], s = 100, c = 'red', label = 'Cluster 1')\n",
    "plt.scatter(X[y_hc == 1, 0], X[y_hc == 1, 1], s = 100, c = 'blue', label = 'Cluster 2')\n",
    "plt.scatter(X[y_hc == 2, 0], X[y_hc == 2, 1], s = 100, c = 'green', label = 'Cluster 3')\n",
    "plt.scatter(X[y_hc == 3, 0], X[y_hc == 3, 1], s = 100, c = 'cyan', label = 'Cluster 4')\n",
    "plt.scatter(X[y_hc == 4, 0], X[y_hc == 4, 1], s = 100, c = 'magenta', label = 'Cluster 5')\n",
    "plt.title('Clusters of customers')\n",
    "plt.xlabel('Annual Income (k€)')\n",
    "plt.ylabel('Spending Score (1-100)')\n",
    "\n",
    "plt.subplot(1, 3, 2)\n",
    "plt.scatter(X[y_hc == 0, 0], X[y_hc == 0, 2], s = 100, c = 'red', label = 'Cluster 1')\n",
    "plt.scatter(X[y_hc == 1, 0], X[y_hc == 1, 2], s = 100, c = 'blue', label = 'Cluster 2')\n",
    "plt.scatter(X[y_hc == 2, 0], X[y_hc == 2, 2], s = 100, c = 'green', label = 'Cluster 3')\n",
    "plt.scatter(X[y_hc == 3, 0], X[y_hc == 3, 2], s = 100, c = 'cyan', label = 'Cluster 4')\n",
    "plt.scatter(X[y_hc == 4, 0], X[y_hc == 4, 2], s = 100, c = 'magenta', label = 'Cluster 5')\n",
    "plt.title('Clusters of customers')\n",
    "plt.xlabel('Annual Income (k€)')\n",
    "plt.ylabel('Age')\n",
    "\n",
    "plt.subplot(1, 3, 3)\n",
    "plt.scatter(X[y_hc == 0, 1], X[y_hc == 0, 2], s = 100, c = 'red', label = 'Cluster 1')\n",
    "plt.scatter(X[y_hc == 1, 1], X[y_hc == 1, 2], s = 100, c = 'blue', label = 'Cluster 2')\n",
    "plt.scatter(X[y_hc == 2, 1], X[y_hc == 2, 2], s = 100, c = 'green', label = 'Cluster 3')\n",
    "plt.scatter(X[y_hc == 3, 1], X[y_hc == 3, 2], s = 100, c = 'cyan', label = 'Cluster 4')\n",
    "plt.scatter(X[y_hc == 4, 1], X[y_hc == 4, 2], s = 100, c = 'magenta', label = 'Cluster 5')\n",
    "plt.title('Clusters of customers')\n",
    "plt.xlabel('Spending Score (1-100)')\n",
    "plt.ylabel('Age')\n",
    "\n",
    "plt.legend()\n",
    "plt.show()"
   ]
  },
  {
   "cell_type": "markdown",
   "metadata": {
    "id": "YAtyAseKHTfJ"
   },
   "source": [
    "[**Solution**]"
   ]
  },
  {
   "cell_type": "markdown",
   "metadata": {
    "id": "gkSOhP1opH_3"
   },
   "source": [
    "# Business insights"
   ]
  },
  {
   "cell_type": "markdown",
   "metadata": {
    "id": "8JDlzZaApH_3"
   },
   "source": [
    "[**EX13**] Our marketing department would like to group 5 types of customers based on a hierarchical clustering with `annual income`and `spending score` features. Describe from a statistics point of view (**number of sample, max, min, mean and standard deviation**) in terms of `Annual_income` and `Spending_score` features."
   ]
  },
  {
   "cell_type": "markdown",
   "metadata": {
    "id": "wA9Huf7jHeFM"
   },
   "source": [
    "[**Solution**]"
   ]
  },
  {
   "cell_type": "code",
   "execution_count": null,
   "metadata": {
    "id": "bwyO6BvlHfAo"
   },
   "outputs": [],
   "source": [
    "X = data.iloc[:, 3:].values\n",
    "hier_clust=sch.linkage(X, method = 'ward')\n",
    "dendrogram = sch.dendrogram(hier_clust, truncate_mode = 'level',\n",
    "           p = 5,\n",
    "           show_leaf_counts=True,\n",
    "           no_labels= True)\n",
    "\n",
    "plt.title('Dendrogram')\n",
    "plt.xlabel('Customers')\n",
    "plt.ylabel('Euclidean distance')\n",
    "plt.show()\n",
    "\n",
    "hc = AgglomerativeClustering(n_clusters = 5,\n",
    "                    metric = 'euclidean',\n",
    "                    linkage = 'ward')\n",
    "\n",
    "y_hc = hc.fit_predict(X)\n",
    "\n",
    "plt.scatter(X[y_hc == 0, 0], X[y_hc == 0, 1], s = 100, c = 'red', label = 'Cluster 0')\n",
    "plt.scatter(X[y_hc == 1, 0], X[y_hc == 1, 1], s = 100, c = 'blue', label = 'Cluster 1')\n",
    "plt.scatter(X[y_hc == 2, 0], X[y_hc == 2, 1], s = 100, c = 'green', label = 'Cluster 2')\n",
    "plt.scatter(X[y_hc == 3, 0], X[y_hc == 3, 1], s = 100, c = 'cyan', label = 'Cluster 3')\n",
    "plt.scatter(X[y_hc == 4, 0], X[y_hc == 4, 1], s = 100, c = 'magenta', label = 'Cluster 4')\n",
    "plt.title('Clusters of customers')\n",
    "plt.xlabel('Annual Income (k€)')\n",
    "plt.ylabel('Spending Score (1-100)')\n",
    "\n",
    "plt.legend()\n",
    "plt.show()"
   ]
  },
  {
   "cell_type": "code",
   "execution_count": null,
   "metadata": {},
   "outputs": [],
   "source": [
    "data['cluster'] = y_hc"
   ]
  },
  {
   "cell_type": "code",
   "execution_count": null,
   "metadata": {},
   "outputs": [],
   "source": [
    "data[data['cluster'] == 0].describe()"
   ]
  },
  {
   "cell_type": "code",
   "execution_count": null,
   "metadata": {},
   "outputs": [],
   "source": [
    "data[data['cluster'] == 1].describe()"
   ]
  },
  {
   "cell_type": "code",
   "execution_count": null,
   "metadata": {},
   "outputs": [],
   "source": [
    "data[data['cluster'] == 2].describe()"
   ]
  },
  {
   "cell_type": "code",
   "execution_count": null,
   "metadata": {},
   "outputs": [],
   "source": [
    "data[data['cluster'] == 3].describe()"
   ]
  },
  {
   "cell_type": "code",
   "execution_count": null,
   "metadata": {},
   "outputs": [],
   "source": [
    "data[data['cluster'] == 4].describe()"
   ]
  },
  {
   "cell_type": "markdown",
   "metadata": {
    "id": "VsDMI2TQpH_4"
   },
   "source": [
    "[**EX14**] If our sales team wants to launch new campaign, answer the following questions:\n",
    "\n",
    "- which cluster(s) will you recommend for a retention campaign of high value customers?\n",
    "- how are the customers with more possibilites to improve their score?\n",
    "- we have very limited budget for a new commercial campaign, which group do you select? Justify your answer"
   ]
  },
  {
   "cell_type": "markdown",
   "metadata": {
    "id": "hEZXiwP4HiMa"
   },
   "source": [
    "[**Solution**]"
   ]
  },
  {
   "cell_type": "markdown",
   "metadata": {},
   "source": [
    "- I would recommend clusters 2 and 3 for instance (high spending score)\n",
    "- Cluster 0 is the one that has more possibilities of improving their score.\n",
    "- I would say cluster 0 and 2 since they have already some amount of spending score (already somewhat convinced) and they have margin for improvement since they have highest incomes."
   ]
  }
 ],
 "metadata": {
  "colab": {
   "provenance": []
  },
  "kernelspec": {
   "display_name": ".venv",
   "language": "python",
   "name": "python3"
  },
  "language_info": {
   "codemirror_mode": {
    "name": "ipython",
    "version": 3
   },
   "file_extension": ".py",
   "mimetype": "text/x-python",
   "name": "python",
   "nbconvert_exporter": "python",
   "pygments_lexer": "ipython3",
   "version": "3.12.3"
  },
  "toc": {
   "base_numbering": 1,
   "nav_menu": {},
   "number_sections": true,
   "sideBar": true,
   "skip_h1_title": false,
   "title_cell": "Table of Contents",
   "title_sidebar": "Contents",
   "toc_cell": false,
   "toc_position": {},
   "toc_section_display": true,
   "toc_window_display": false
  },
  "varInspector": {
   "cols": {
    "lenName": 16,
    "lenType": 16,
    "lenVar": 40
   },
   "kernels_config": {
    "python": {
     "delete_cmd_postfix": "",
     "delete_cmd_prefix": "del ",
     "library": "var_list.py",
     "varRefreshCmd": "print(var_dic_list())"
    },
    "r": {
     "delete_cmd_postfix": ") ",
     "delete_cmd_prefix": "rm(",
     "library": "var_list.r",
     "varRefreshCmd": "cat(var_dic_list()) "
    }
   },
   "types_to_exclude": [
    "module",
    "function",
    "builtin_function_or_method",
    "instance",
    "_Feature"
   ],
   "window_display": false
  }
 },
 "nbformat": 4,
 "nbformat_minor": 0
}
