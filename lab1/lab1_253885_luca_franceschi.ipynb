{
 "cells": [
  {
   "cell_type": "markdown",
   "metadata": {
    "id": "bnoFhkkbBWaw"
   },
   "source": [
    "# PR 1: Introduction to Visual Analytics and Visualization libraries in Python\n",
    "\n",
    "# Lab goals:\n",
    "In this lab, we will deep dive into how Visual Analytics and some of the most relevant Python libraries: matplotlib and seaborn.\n",
    "We will apply these two libraries to EDA: Exploratory Data Analysis, a key stage in a Machine Learning project.\n",
    "\n",
    "Use as reference information for both libraries:\n",
    "- seaborn-> https://seaborn.pydata.org/\n",
    "- matplotlib-> https://matplotlib.org/\n",
    "\n",
    "In data visualization there are some web references as:\n",
    "- https://datavizproject.com/\n",
    "- https://www.data-to-viz.com/\n",
    "\n",
    "\n",
    "### Due date: during the lab session. It is not allowed to send it after the session\n",
    "### Submission procedure: via Moodle.\n",
    "### Complete with your Name: Luca Franceschi\n",
    "### Complete with your NIA: 253885"
   ]
  },
  {
   "cell_type": "markdown",
   "metadata": {
    "id": "X4SrhaPFDQYP"
   },
   "source": [
    "# 1 Environment setup and data gathering"
   ]
  },
  {
   "cell_type": "code",
   "execution_count": null,
   "metadata": {
    "id": "JtR0MK1Mf0MR",
    "trusted": true
   },
   "outputs": [],
   "source": [
    "import pandas as pd\n",
    "import numpy as np\n",
    "import matplotlib.pyplot as plt\n",
    "import seaborn as sns\n",
    "from pandas import Series, DataFrame"
   ]
  },
  {
   "cell_type": "code",
   "execution_count": null,
   "metadata": {
    "id": "F_pvuPJhf0MT"
   },
   "outputs": [],
   "source": [
    "# Upload the dataset and store it in a tips variable."
   ]
  },
  {
   "cell_type": "code",
   "execution_count": null,
   "metadata": {
    "id": "3O8Diohaf0MT",
    "trusted": true
   },
   "outputs": [],
   "source": [
    "tips = sns.load_dataset(\"tips\")"
   ]
  },
  {
   "cell_type": "markdown",
   "metadata": {
    "id": "CW2LkQtHD6Xd"
   },
   "source": [
    "**EX1** Print the top 5 and tail 5 of the dataset"
   ]
  },
  {
   "cell_type": "code",
   "execution_count": null,
   "metadata": {},
   "outputs": [],
   "source": [
    "# ANSWER\n",
    "print(tips.head())\n",
    "\n",
    "print(tips.tail())"
   ]
  },
  {
   "cell_type": "markdown",
   "metadata": {
    "id": "48uWkj9OF8s4"
   },
   "source": [
    "With .info() we can identify the structure of the dataframe: columns, types of variables and nulls."
   ]
  },
  {
   "cell_type": "code",
   "execution_count": null,
   "metadata": {
    "colab": {
     "base_uri": "https://localhost:8080/"
    },
    "executionInfo": {
     "elapsed": 263,
     "status": "ok",
     "timestamp": 1695458676006,
     "user": {
      "displayName": "MIGUEL ANGEL CORDOBES ARANDA",
      "userId": "03161467566781317935"
     },
     "user_tz": -120
    },
    "id": "-CiAxh1jF3qs",
    "outputId": "4f636c10-82fb-4093-bcce-ede6ca1a98c1"
   },
   "outputs": [],
   "source": [
    "tips.info()"
   ]
  },
  {
   "cell_type": "markdown",
   "metadata": {
    "id": "KYASX4QIG6pu"
   },
   "source": [
    "# 2 Exploratory Data Analysis (EDA)"
   ]
  },
  {
   "cell_type": "markdown",
   "metadata": {
    "id": "Qc9vzV_HdNTZ"
   },
   "source": [
    "## 2.1 Basics of EDA"
   ]
  },
  {
   "cell_type": "markdown",
   "metadata": {
    "id": "l3B0-o72EDHG"
   },
   "source": [
    "**EX2** Is there any null in the dataframe?"
   ]
  },
  {
   "cell_type": "markdown",
   "metadata": {},
   "source": [
    "**ANSWER:** No there is none, since with the *info* method we can identify that there are 244 entries, and no column contains other than 244 non-null elements."
   ]
  },
  {
   "cell_type": "markdown",
   "metadata": {
    "id": "YBIUoSyXHGWp"
   },
   "source": [
    "With .describe() we can obtain the main statistics of numerical variables"
   ]
  },
  {
   "cell_type": "code",
   "execution_count": null,
   "metadata": {
    "colab": {
     "base_uri": "https://localhost:8080/",
     "height": 300
    },
    "executionInfo": {
     "elapsed": 2,
     "status": "ok",
     "timestamp": 1695458676351,
     "user": {
      "displayName": "MIGUEL ANGEL CORDOBES ARANDA",
      "userId": "03161467566781317935"
     },
     "user_tz": -120
    },
    "id": "Ss3Flz32f0MU",
    "outputId": "c9856294-010c-4034-b59b-f034ab49f1fb",
    "trusted": true
   },
   "outputs": [],
   "source": [
    "tips.describe()"
   ]
  },
  {
   "cell_type": "markdown",
   "metadata": {
    "id": "giaHpk_OIHDT"
   },
   "source": [
    "**EX3** Apply .unique() to identify unique values in categorical variables"
   ]
  },
  {
   "cell_type": "code",
   "execution_count": null,
   "metadata": {},
   "outputs": [],
   "source": [
    "# ANSWER\n",
    "tips['time'].unique()"
   ]
  },
  {
   "cell_type": "markdown",
   "metadata": {
    "id": "97k7-Pa2I1qY"
   },
   "source": [
    "**EX4** To complete the understanding of categorical variables, we need also to know how many samples by category in each variable. Use .value_count() to count the number of samples per *day*, *smoker* and *sex* categories"
   ]
  },
  {
   "cell_type": "code",
   "execution_count": null,
   "metadata": {},
   "outputs": [],
   "source": [
    "# ANSWER\n",
    "print(tips['day'].value_counts(), '\\n')\n",
    "print(tips['smoker'].value_counts(), '\\n')\n",
    "print(tips['sex'].value_counts(), '\\n')"
   ]
  },
  {
   "cell_type": "markdown",
   "metadata": {},
   "source": [
    "**Observation:** We can see that the presence of *Male* is more than double the one of *Female* in the Sex column."
   ]
  },
  {
   "cell_type": "markdown",
   "metadata": {
    "id": "grUh8ai_dE6t"
   },
   "source": [
    "## 2.2 Applying visualization to improve the EDA"
   ]
  },
  {
   "cell_type": "markdown",
   "metadata": {
    "id": "T6SVevw-wSM4"
   },
   "source": [
    "Let's create an auxiliar variable, *aux*, that is the value_counts() of tips.day"
   ]
  },
  {
   "cell_type": "code",
   "execution_count": null,
   "metadata": {
    "id": "9Hff5QiIfDt_"
   },
   "outputs": [],
   "source": [
    "aux=tips.day.value_counts()"
   ]
  },
  {
   "cell_type": "markdown",
   "metadata": {
    "id": "n0JGs49ywdX9"
   },
   "source": [
    "As a series, we can access the category name using **aux.index** and the category values by **aux.values**"
   ]
  },
  {
   "cell_type": "code",
   "execution_count": null,
   "metadata": {
    "colab": {
     "base_uri": "https://localhost:8080/"
    },
    "executionInfo": {
     "elapsed": 2,
     "status": "ok",
     "timestamp": 1695458678482,
     "user": {
      "displayName": "MIGUEL ANGEL CORDOBES ARANDA",
      "userId": "03161467566781317935"
     },
     "user_tz": -120
    },
    "id": "Su3XR1A-vbif",
    "outputId": "826160ec-2452-4c36-f351-654c38430282"
   },
   "outputs": [],
   "source": [
    "aux.index"
   ]
  },
  {
   "cell_type": "code",
   "execution_count": null,
   "metadata": {
    "colab": {
     "base_uri": "https://localhost:8080/"
    },
    "executionInfo": {
     "elapsed": 2,
     "status": "ok",
     "timestamp": 1695458678482,
     "user": {
      "displayName": "MIGUEL ANGEL CORDOBES ARANDA",
      "userId": "03161467566781317935"
     },
     "user_tz": -120
    },
    "id": "-KSut1Zxw_PN",
    "outputId": "00a8a507-b932-41ad-8ea8-230ceafcf4d1"
   },
   "outputs": [],
   "source": [
    "aux.values"
   ]
  },
  {
   "cell_type": "markdown",
   "metadata": {
    "id": "_tFWFjQFdhLQ"
   },
   "source": [
    "**EX5** Let's create our first bar plot using the following code: i.e. plt.bar(x, height). Which is the day with more visits?"
   ]
  },
  {
   "cell_type": "code",
   "execution_count": null,
   "metadata": {
    "colab": {
     "base_uri": "https://localhost:8080/",
     "height": 430
    },
    "executionInfo": {
     "elapsed": 461,
     "status": "ok",
     "timestamp": 1695461217308,
     "user": {
      "displayName": "MIGUEL ANGEL CORDOBES ARANDA",
      "userId": "03161467566781317935"
     },
     "user_tz": -120
    },
    "id": "BP392E02XPQj",
    "outputId": "0868788c-dd3c-4b0b-a8e5-cbcfdadba2d1"
   },
   "outputs": [],
   "source": [
    "plt.figure()\n",
    "plt.bar(x=aux.index,height=aux.values)\n",
    "plt.show()"
   ]
  },
  {
   "cell_type": "markdown",
   "metadata": {},
   "source": [
    "**ANSWER:** The day with more visits is Saturday."
   ]
  },
  {
   "cell_type": "markdown",
   "metadata": {
    "id": "pMBY0dClgK3W"
   },
   "source": [
    "**EX6** Let's use several attributes of a bar plot. Create a new bar plot similar to the previous one with orange bars, no edgecolor, width of 0.4, align at the center the horizontal axis. Include also the legend."
   ]
  },
  {
   "cell_type": "code",
   "execution_count": null,
   "metadata": {},
   "outputs": [],
   "source": [
    "plt.figure()\n",
    "plt.bar(x=aux.index, height=aux.values, width=0.4, color='orange', edgecolor=None, align='center', label='Number of visits')\n",
    "plt.legend()\n",
    "plt.show()"
   ]
  },
  {
   "cell_type": "markdown",
   "metadata": {
    "id": "WBT8rpRnmeww"
   },
   "source": [
    "**EX7** Repeat **EX6** but use color \"grey\" and rotation=90 in the x axis."
   ]
  },
  {
   "cell_type": "code",
   "execution_count": null,
   "metadata": {},
   "outputs": [],
   "source": [
    "plt.figure()\n",
    "plt.bar(x=aux.index, height=aux.values, width=0.4, color='grey', edgecolor=None, align='center', label='Number of visits')\n",
    "plt.xticks(rotation=90)\n",
    "plt.legend()\n",
    "plt.show()"
   ]
  },
  {
   "cell_type": "markdown",
   "metadata": {
    "id": "JEWa31jPqSN7"
   },
   "source": [
    "**EX8** Repeat EX7 but with horizontal bars. Recall to use *plt.barh* instead of *plt.bar*. Use plt.yticks() to rotate the labels of y axis. Play with different rotation values."
   ]
  },
  {
   "cell_type": "code",
   "execution_count": null,
   "metadata": {},
   "outputs": [],
   "source": [
    "plt.figure()\n",
    "plt.barh(y=aux.index, width=aux.values, height=0.4, color='grey', edgecolor=None, align='center', label='Number of visits')\n",
    "plt.yticks(rotation=45)\n",
    "plt.legend()\n",
    "plt.show()"
   ]
  },
  {
   "cell_type": "markdown",
   "metadata": {
    "id": "RslRl6hhsX3U"
   },
   "source": [
    "**EX9** Repeat EX6 with seaborn. Use **sns.countplot()**. Which is the main difference with barplot?"
   ]
  },
  {
   "cell_type": "code",
   "execution_count": null,
   "metadata": {},
   "outputs": [],
   "source": [
    "sns.countplot(x='day', data=tips, width=0.4, color='orange')\n",
    "plt.show()"
   ]
  },
  {
   "cell_type": "markdown",
   "metadata": {},
   "source": [
    "**ANSWER:** The main difference *obviously* is that the orange color is not the *exact same*. Just joking. The days are ordered now."
   ]
  },
  {
   "cell_type": "markdown",
   "metadata": {
    "id": "inCz0LFhyiP2"
   },
   "source": [
    "**EX10** Let's apply sns.barplot(data=tips, x=\"day\", y=\"total_bill\"). Which is this code line returning? Tip: Compare the plot with the main statistics of \"total_bill\" for each of these days using *.describe()*."
   ]
  },
  {
   "cell_type": "code",
   "execution_count": null,
   "metadata": {},
   "outputs": [],
   "source": [
    "print(tips.groupby(['day'],observed=True)['total_bill'].describe())"
   ]
  },
  {
   "cell_type": "code",
   "execution_count": null,
   "metadata": {},
   "outputs": [],
   "source": [
    "sns.barplot(data=tips, x=\"day\", y=\"total_bill\")\n",
    "plt.show()"
   ]
  },
  {
   "cell_type": "markdown",
   "metadata": {},
   "source": [
    "**ANSWER:** we can see that the *sns.barplot* method by default shows the mean. Also the lines that are at the top of each bar (*errorbar*) are by default the confidence intervals at 95% confidence."
   ]
  },
  {
   "cell_type": "markdown",
   "metadata": {
    "id": "Q8eMrrdED_6d"
   },
   "source": [
    "**EX11** Create a pie plot to represent the % of days with tips per each day. Use plt.pie() from matplotlib (Recall: aux.index represents the days and aux.values stores the number of days per day). Tip: Use autopct='%1.2f' as an attribute to show the ratio value in terms of '%'"
   ]
  },
  {
   "cell_type": "code",
   "execution_count": null,
   "metadata": {},
   "outputs": [],
   "source": [
    "plt.figure()\n",
    "plt.pie(x=aux.values, labels=aux.index, autopct='%1.2f')\n",
    "plt.show()"
   ]
  },
  {
   "cell_type": "markdown",
   "metadata": {
    "id": "eUfklbsIcE0b"
   },
   "source": [
    "If we want to control the color attribute of each piece of the pie, we can create a variable colors as follows:"
   ]
  },
  {
   "cell_type": "code",
   "execution_count": null,
   "metadata": {
    "id": "2SH-HjwAcUhZ"
   },
   "outputs": [],
   "source": [
    "color = plt.get_cmap('Blues')(np.linspace(0.2, 0.7, len(aux.index)))"
   ]
  },
  {
   "cell_type": "markdown",
   "metadata": {
    "id": "iQvPHhBjGJ3z"
   },
   "source": [
    "**EX12** Now repeat the previous plot that includes the `colors`=color attribute and also the following ones: explode=[0.2,0,0,0] and radius=3. Which are the effects of these parameters into the plot?"
   ]
  },
  {
   "cell_type": "code",
   "execution_count": null,
   "metadata": {},
   "outputs": [],
   "source": [
    "plt.figure()\n",
    "plt.pie(x=aux.values, labels=aux.index, autopct='%1.2f', colors=color, explode=[0.2,0,0,0], radius=3)\n",
    "plt.show()"
   ]
  },
  {
   "cell_type": "markdown",
   "metadata": {},
   "source": [
    "**ANSWER:** It makes the plot have an evenly distributed blue color map, it sets the radius size to 3 (much bigger), and it shifts (explodes) the first element in the data array by 0.2 (saturday).  "
   ]
  },
  {
   "cell_type": "markdown",
   "metadata": {
    "id": "lrkWXOFuyQY3"
   },
   "source": [
    "##**Distributions plots:**##\n",
    "\n",
    "**Histograms**:\n",
    "\n",
    "*matplotlib function*: hist(x)\n",
    "*parameters*:\n",
    "\n",
    "- color: Set the color of the bars in the histogram.\n",
    "- bins: Set the number of bins to display in the histogram, or specify speciic bins.\n",
    "\n",
    "\n",
    "\n",
    "*seaborn function*: sns.displot(x)\n",
    "*parameters*:\n",
    "\n",
    "- color: Set the color of the bars in the histogram.\n",
    "- kind: Approach for visualizing the data. Selects the underlying plotting function and determines the additional set of valid parameters.\n",
    "\n",
    "\n",
    "**Boxplots**:\n",
    "\n",
    "*matplotlib function*: violinplot(x)\n",
    "\n",
    "*seaborn function*: sns.boxplot(x)\n",
    "\n",
    "**Violin**: A violin plot plays a similar role as a box and whisker plot. It shows the distribution of quantitative data across several levels of one (or more) categorical variables such that those distributions can be compared. Unlike a box plot, in which all of the plot components correspond to actual datapoints, the violin plot features a kernel density estimation of the underlying distribution.\n",
    "\n",
    "*matplotlib function*: violinplot(x)\n",
    "*parameters*:\n",
    "- showmeans: If True, will toggle rendering of the means.\n",
    "- showextrema: If True, will toggle rendering of the extrema.\n",
    "- showmedians: If True, will toggle rendering of the medians.\n",
    "\n",
    "*seaborn function*: sns.violinplot(x)"
   ]
  },
  {
   "cell_type": "markdown",
   "metadata": {
    "id": "ebASrkMczpJE"
   },
   "source": [
    "**EX13** Execute this histogram plot and examine the results. What type of distribution this variable presents?"
   ]
  },
  {
   "cell_type": "code",
   "execution_count": null,
   "metadata": {
    "colab": {
     "base_uri": "https://localhost:8080/",
     "height": 525
    },
    "executionInfo": {
     "elapsed": 798,
     "status": "ok",
     "timestamp": 1695461481825,
     "user": {
      "displayName": "MIGUEL ANGEL CORDOBES ARANDA",
      "userId": "03161467566781317935"
     },
     "user_tz": -120
    },
    "id": "pmUqXWemf0MV",
    "outputId": "5894940f-932e-4849-b61d-160735973c20",
    "trusted": true
   },
   "outputs": [],
   "source": [
    "sns.displot(tips['total_bill'], kind=\"hist\")\n",
    "plt.show()"
   ]
  },
  {
   "cell_type": "markdown",
   "metadata": {},
   "source": [
    "**ANSWER:** This variable seems to exhibit a [Poisson distribution](https://en.wikipedia.org/wiki/Poisson_distribution)"
   ]
  },
  {
   "cell_type": "markdown",
   "metadata": {
    "id": "fl-mjzjb1I0o"
   },
   "source": [
    "**EX14** Repeat the previous exercise with matplotlib (i.e. plt.hist()). Enrich the visualization with orange colour and 150 bins. Add a title, X and Y axis names. Any issue in the visualization? How could you improve the distribution visualization?"
   ]
  },
  {
   "cell_type": "code",
   "execution_count": null,
   "metadata": {},
   "outputs": [],
   "source": [
    "plt.figure()\n",
    "plt.hist(tips['total_bill'], bins=150, color='orange')\n",
    "plt.title('Tip count vs total_bill histogram')\n",
    "plt.xlabel('total_bill')\n",
    "plt.ylabel('count')\n",
    "plt.show()"
   ]
  },
  {
   "cell_type": "markdown",
   "metadata": {},
   "source": [
    "**ANSWER:** there are too many bins for the range, with less bins (at most 50) the visualization is much better."
   ]
  },
  {
   "cell_type": "markdown",
   "metadata": {
    "id": "GbWDvePq2eWJ"
   },
   "source": [
    "**EX15** Fix the identified issue and repeat the previous exercise."
   ]
  },
  {
   "cell_type": "code",
   "execution_count": null,
   "metadata": {},
   "outputs": [],
   "source": [
    "plt.figure()\n",
    "plt.hist(tips['total_bill'], bins=40, color='orange')\n",
    "plt.title('Tip count vs total_bill histogram')\n",
    "plt.xlabel('total_bill')\n",
    "plt.ylabel('count')\n",
    "plt.show()"
   ]
  },
  {
   "cell_type": "markdown",
   "metadata": {
    "id": "W7KcyvXz4iIx"
   },
   "source": [
    "**EX16** Execute the following code and describe what it is representing."
   ]
  },
  {
   "cell_type": "code",
   "execution_count": null,
   "metadata": {
    "colab": {
     "base_uri": "https://localhost:8080/",
     "height": 506
    },
    "executionInfo": {
     "elapsed": 530,
     "status": "ok",
     "timestamp": 1695458721867,
     "user": {
      "displayName": "MIGUEL ANGEL CORDOBES ARANDA",
      "userId": "03161467566781317935"
     },
     "user_tz": -120
    },
    "id": "7hwxIsPHf0MV",
    "outputId": "f6610fdf-e482-4517-be48-6fef96b546e3",
    "trusted": true
   },
   "outputs": [],
   "source": [
    "from statistics import mode\n",
    "mean=tips[\"tip\"].mean()\n",
    "median=tips[\"tip\"].median()\n",
    "mode=mode(tips[\"tip\"])\n",
    "sns.displot(tips[\"tip\"],kind=\"kde\")\n",
    "plt.axvline(mean,color='r',label='mean')\n",
    "plt.axvline(median,color='b',label='median')\n",
    "plt.axvline(mode,color='g',label='mode')\n",
    "plt.legend()\n",
    "plt.show()"
   ]
  },
  {
   "cell_type": "markdown",
   "metadata": {},
   "source": [
    "**ANSWER:** we are looking at a plot that smoothens the histogram data (a.k.a. [kernel density estimation](https://en.wikipedia.org/wiki/Kernel_density_estimation)) along with some descriptive statistical metrics that try to explain a bit the data. We also have the mode which is the most probable output for the distribution."
   ]
  },
  {
   "cell_type": "markdown",
   "metadata": {
    "id": "bMpR1hWZ7gOF"
   },
   "source": [
    "**EX17** Execute the following code and describe what it is representing."
   ]
  },
  {
   "cell_type": "code",
   "execution_count": null,
   "metadata": {
    "colab": {
     "base_uri": "https://localhost:8080/",
     "height": 430
    },
    "executionInfo": {
     "elapsed": 819,
     "status": "ok",
     "timestamp": 1695461756692,
     "user": {
      "displayName": "MIGUEL ANGEL CORDOBES ARANDA",
      "userId": "03161467566781317935"
     },
     "user_tz": -120
    },
    "id": "8o3A4b4ff0MV",
    "outputId": "2a7f7bfe-c660-4283-c450-26e5b2307aaf",
    "trusted": true
   },
   "outputs": [],
   "source": [
    "plt.boxplot(tips[\"tip\"])\n",
    "plt.show()"
   ]
  },
  {
   "cell_type": "markdown",
   "metadata": {},
   "source": [
    "**ANSWER:** this is a boxplot that describes how the variable behaves. It shows the quantiles, min, max, median, and outliers."
   ]
  },
  {
   "cell_type": "markdown",
   "metadata": {
    "id": "AhDbwroO75WC"
   },
   "source": [
    "**EX18** Build a boxplot of `tip` variable per day using sns.boxplot()"
   ]
  },
  {
   "cell_type": "code",
   "execution_count": null,
   "metadata": {},
   "outputs": [],
   "source": [
    "sns.boxplot(tips[\"tip\"])\n",
    "plt.show()"
   ]
  },
  {
   "cell_type": "markdown",
   "metadata": {},
   "source": [
    "**Observation:** it is quite similar."
   ]
  },
  {
   "cell_type": "markdown",
   "metadata": {
    "id": "TTSUu3uV-q3t"
   },
   "source": [
    "**EX19** Execute the following code and describe the visualization"
   ]
  },
  {
   "cell_type": "code",
   "execution_count": null,
   "metadata": {
    "colab": {
     "base_uri": "https://localhost:8080/",
     "height": 430
    },
    "executionInfo": {
     "elapsed": 705,
     "status": "ok",
     "timestamp": 1695461805540,
     "user": {
      "displayName": "MIGUEL ANGEL CORDOBES ARANDA",
      "userId": "03161467566781317935"
     },
     "user_tz": -120
    },
    "id": "67xkdZNz_DZp",
    "outputId": "e603ba51-0614-4b00-ed74-458043d4b50d"
   },
   "outputs": [],
   "source": [
    "plt.violinplot(tips[\"tip\"], showmeans=True, showmedians=True, showextrema=True)\n",
    "plt.show()"
   ]
  },
  {
   "cell_type": "markdown",
   "metadata": {},
   "source": [
    "**ANSWER:** in this plot we can see a boxplot overlaid over a distplot of the kernel density estimation of the data (a.k.a. violin plot)."
   ]
  },
  {
   "cell_type": "markdown",
   "metadata": {
    "id": "PB3YJ3BW_vHQ"
   },
   "source": [
    "**EX20** Build a violin plot of the `tip` variable per day and differentiating the `sex`variable using sns.violinplot(x,y, hue=\"sex\")"
   ]
  },
  {
   "cell_type": "code",
   "execution_count": null,
   "metadata": {},
   "outputs": [],
   "source": [
    "sns.violinplot(data=tips, x=\"day\", y='tip', hue='sex')\n",
    "plt.show()"
   ]
  },
  {
   "cell_type": "markdown",
   "metadata": {
    "id": "ng8hBGAaArFy"
   },
   "source": [
    "**EX21** Do females use to give more tips on Sundays? and on Saturdays? Justify your answer."
   ]
  },
  {
   "cell_type": "markdown",
   "metadata": {},
   "source": [
    "**ANSWER:** on average I would say that seemingly there is not a significant difference between tippings depending on sex, however the median is higher for females on sundays and lower on saturdays with respect to males. What we can see is that there seem to be more outliers especially on saturdays for both sexes."
   ]
  },
  {
   "cell_type": "markdown",
   "metadata": {
    "id": "gZUO9CJGChrW"
   },
   "source": [
    "##**Plots to represent relationships between variables:**##\n",
    "\n",
    "**Scatterplot**:\n",
    "\n",
    "Scatter plots are used to observe relationships between variables and uses dots to represent the relationship between them.\n",
    "\n",
    "*matplotlib function*: scatter(x, y)\n",
    "*parameters*:\n",
    "\n",
    "- c: Set the color of the markers.\n",
    "- s: Set the size of the markers.\n",
    "- marker: Set the marker style, e.g., circles, triangles, or squares.\n",
    "- edgecolor: Set the color of the lines on the edges of the markers.\n",
    "\n",
    "\n",
    "**Jointplot**:\n",
    "\n",
    "Draw a plot of two variables with bivariate and univariate graphs.\n",
    "\n",
    "*seaborn*: sns.jointplot (x, y, data).\n",
    "\n",
    "\n",
    "**Correlation matrix**:\n",
    "To represent the correlation matrix, we will create a heatmap in matplotlib and seaborn.\n",
    "\n",
    "*matplotlib function*: plt.imshow(`correlation matrix`)\n",
    "\n",
    "*seaborn*: sns.heatmap(`correlation matrix`)\n",
    "\n",
    "**Pairplot**:\n",
    "\n",
    "This function will create a grid of Axes such that each numeric variable in data will by shared across the y-axes across a single row and the x-axes across a single column. The diagonal plots are treated differently: a univariate distribution plot is drawn to show the marginal distribution of the data in each column.\n",
    "\n",
    "*seaborn*: seaborn.pairplot()\n",
    "*parameters*:\n",
    "\n",
    "- kind: Kind of plot to make\n",
    "- markerssingle:  matplotlib marker code or list\n",
    "- huename of variable in data\n",
    "\n",
    "\n"
   ]
  },
  {
   "cell_type": "markdown",
   "metadata": {
    "id": "NITxZeThmekD"
   },
   "source": [
    "**EX22** Execute this scatter plot and examine the results. Which insight do you get from it?"
   ]
  },
  {
   "cell_type": "code",
   "execution_count": null,
   "metadata": {
    "colab": {
     "base_uri": "https://localhost:8080/",
     "height": 430
    },
    "executionInfo": {
     "elapsed": 297,
     "status": "ok",
     "timestamp": 1695458724223,
     "user": {
      "displayName": "MIGUEL ANGEL CORDOBES ARANDA",
      "userId": "03161467566781317935"
     },
     "user_tz": -120
    },
    "id": "SPmNB1yxlYb1",
    "outputId": "f14b613c-2f18-4c56-d90c-b7e28bb84c7c"
   },
   "outputs": [],
   "source": [
    "plt.scatter(tips[\"total_bill\"], tips['tip'])\n",
    "plt.show()"
   ]
  },
  {
   "cell_type": "markdown",
   "metadata": {},
   "source": [
    "**ANSWER:** I would say that there is a positive correlation between the two variables total_bill and tip."
   ]
  },
  {
   "cell_type": "markdown",
   "metadata": {
    "id": "yuYtoMxRnGzf"
   },
   "source": [
    "**EX23** Repeat the previous exercise but adding the `s`=10, `marker`=\"o\" and colour depending on the value of tips.total_bill. Add a title and X and Y labels."
   ]
  },
  {
   "cell_type": "code",
   "execution_count": null,
   "metadata": {},
   "outputs": [],
   "source": [
    "ax = plt.scatter(tips[\"total_bill\"], tips['tip'], s=10, marker='o', c=tips[\"total_bill\"])\n",
    "plt.colorbar(ax)\n",
    "plt.title('Scatter plot between total bill and tip')\n",
    "plt.xlabel('total_bill')\n",
    "plt.ylabel('tip')\n",
    "plt.show()"
   ]
  },
  {
   "cell_type": "markdown",
   "metadata": {
    "id": "xAc5P9IauB7Q"
   },
   "source": [
    "**EX23** Repeat the previous exercise where the size of each sample depends on the value of the tip multiplied by a factor x10."
   ]
  },
  {
   "cell_type": "code",
   "execution_count": null,
   "metadata": {},
   "outputs": [],
   "source": [
    "ax = plt.scatter(tips[\"total_bill\"], tips['tip'], s=tips['tip']*10, marker='o', c=tips[\"total_bill\"])\n",
    "plt.colorbar(ax)\n",
    "plt.title('Scatter plot between total bill and tip')\n",
    "plt.xlabel('total_bill')\n",
    "plt.ylabel('tip')\n",
    "plt.show()"
   ]
  },
  {
   "cell_type": "markdown",
   "metadata": {
    "id": "WiHwKbSOQ81j"
   },
   "source": [
    "**EX24**: Execute the following jointplot."
   ]
  },
  {
   "cell_type": "code",
   "execution_count": null,
   "metadata": {
    "colab": {
     "base_uri": "https://localhost:8080/",
     "height": 625
    },
    "executionInfo": {
     "elapsed": 2890,
     "status": "ok",
     "timestamp": 1695459526221,
     "user": {
      "displayName": "MIGUEL ANGEL CORDOBES ARANDA",
      "userId": "03161467566781317935"
     },
     "user_tz": -120
    },
    "id": "AuBCdnCnQxgg",
    "outputId": "950d5330-5822-416a-f5b2-4bf18f885d3d"
   },
   "outputs": [],
   "source": [
    "sns.jointplot(x=\"total_bill\", y=\"tip\", data=tips, kind=\"reg\")\n",
    "plt.show()"
   ]
  },
  {
   "cell_type": "markdown",
   "metadata": {
    "id": "YBQbYihoRo9A"
   },
   "source": [
    "**EX25**: Is the correlation between `total_bill`and `tip`similar between males and females? To answer this question build a sns.jointplot with hue=\"sex\"."
   ]
  },
  {
   "cell_type": "code",
   "execution_count": null,
   "metadata": {},
   "outputs": [],
   "source": [
    "sns.jointplot(x=\"total_bill\", y=\"tip\", data=tips, hue='sex')\n",
    "plt.show()"
   ]
  },
  {
   "cell_type": "markdown",
   "metadata": {},
   "source": [
    "**ANSWER:** i would say that the correlation is positive and similar at least."
   ]
  },
  {
   "cell_type": "markdown",
   "metadata": {
    "id": "tSG83-2dNVFx"
   },
   "source": [
    "**EX26** Execute the following and code. Which are the variable with more correlation? And with lower correlation?"
   ]
  },
  {
   "cell_type": "code",
   "execution_count": null,
   "metadata": {
    "colab": {
     "base_uri": "https://localhost:8080/",
     "height": 527
    },
    "executionInfo": {
     "elapsed": 320,
     "status": "ok",
     "timestamp": 1695458728273,
     "user": {
      "displayName": "MIGUEL ANGEL CORDOBES ARANDA",
      "userId": "03161467566781317935"
     },
     "user_tz": -120
    },
    "id": "wLekdgXZf0MW",
    "outputId": "8796a2f2-f7b1-48c8-908a-88a2b665d35b",
    "trusted": true
   },
   "outputs": [],
   "source": [
    "plt.figure(figsize=(5,5))\n",
    "sns.heatmap(tips.corr(numeric_only=True),annot=True)\n",
    "plt.show()"
   ]
  },
  {
   "cell_type": "markdown",
   "metadata": {},
   "source": [
    "**ANSWER:** tip and total bill are the variables with highest correlation, while size and tip are the lowest ones (neutral)."
   ]
  },
  {
   "cell_type": "markdown",
   "metadata": {
    "id": "LDGL5zPUNZol"
   },
   "source": [
    "**EX27** Execute the following visualization code. Are `total_bill`, `tip`and `size`variables with the same distribution between male and female?"
   ]
  },
  {
   "cell_type": "code",
   "execution_count": null,
   "metadata": {
    "colab": {
     "base_uri": "https://localhost:8080/",
     "height": 758
    },
    "executionInfo": {
     "elapsed": 4224,
     "status": "ok",
     "timestamp": 1695459054336,
     "user": {
      "displayName": "MIGUEL ANGEL CORDOBES ARANDA",
      "userId": "03161467566781317935"
     },
     "user_tz": -120
    },
    "id": "bspIFSenf0Ma",
    "outputId": "9acf1be6-7f2d-4707-bbb1-d7b3100c259b",
    "trusted": true
   },
   "outputs": [],
   "source": [
    "sns.pairplot(data=tips,hue='sex', markers=[\"o\", \"s\"])\n",
    "plt.show()"
   ]
  },
  {
   "cell_type": "markdown",
   "metadata": {},
   "source": [
    "**ANSWER:** yes, they seem to follow the same distribution. There might be some outliers in the size plot and thus it shows a bit weird in its tail for males."
   ]
  },
  {
   "cell_type": "markdown",
   "metadata": {
    "id": "zNSgWdsfQEuq"
   },
   "source": [
    "##**Multi-plots and subplots:**##\n",
    "\n",
    "**Subplots**:\n",
    "\n",
    "Build multiple charts in a figure.\n",
    "\n",
    "*matplotlib* subplot(nrows, ncols, plot_number)\n",
    "• nrows: The number of rows in the igure.\n",
    "• ncols: The number of columns in the igure.\n",
    "• plot_number: The placement of the chart (starts at 1).\n"
   ]
  },
  {
   "cell_type": "code",
   "execution_count": null,
   "metadata": {
    "id": "V3EI6C3gf0Mc",
    "trusted": true
   },
   "outputs": [],
   "source": [
    "from sklearn.preprocessing import LabelEncoder"
   ]
  },
  {
   "cell_type": "code",
   "execution_count": null,
   "metadata": {
    "id": "nZcO5EItf0Mc",
    "trusted": true
   },
   "outputs": [],
   "source": [
    "lr=LabelEncoder()"
   ]
  },
  {
   "cell_type": "code",
   "execution_count": null,
   "metadata": {
    "id": "EjKzycwDf0Mc",
    "trusted": true
   },
   "outputs": [],
   "source": [
    "tips['LE Day']=lr.fit_transform(tips['day'])"
   ]
  },
  {
   "cell_type": "code",
   "execution_count": null,
   "metadata": {
    "colab": {
     "base_uri": "https://localhost:8080/",
     "height": 206
    },
    "executionInfo": {
     "elapsed": 399,
     "status": "ok",
     "timestamp": 1694424506947,
     "user": {
      "displayName": "MIGUEL ANGEL CORDOBES ARANDA",
      "userId": "03161467566781317935"
     },
     "user_tz": -120
    },
    "id": "WU6o3Ahjf0Mc",
    "outputId": "5a420eca-0312-4a40-d6b2-c28b5b4c9ccd",
    "trusted": true
   },
   "outputs": [],
   "source": [
    "tips.head()"
   ]
  },
  {
   "cell_type": "markdown",
   "metadata": {
    "id": "zV2EJF5zf0Mc"
   },
   "source": [
    "**EX28**: Execute the following code. What are they representing?\n"
   ]
  },
  {
   "cell_type": "code",
   "execution_count": null,
   "metadata": {
    "colab": {
     "base_uri": "https://localhost:8080/",
     "height": 271
    },
    "executionInfo": {
     "elapsed": 340,
     "status": "ok",
     "timestamp": 1695460337309,
     "user": {
      "displayName": "MIGUEL ANGEL CORDOBES ARANDA",
      "userId": "03161467566781317935"
     },
     "user_tz": -120
    },
    "id": "aHyffsdmf0Mc",
    "outputId": "25714bad-0b0d-471d-8cf3-9fd9dd236ced",
    "trusted": true
   },
   "outputs": [],
   "source": [
    "plt.figure(figsize=(10,5))\n",
    "plt.subplot(2,2,1)\n",
    "tips['sex'].value_counts().plot(kind='bar')\n",
    "plt.subplot(2,2,2)\n",
    "tips['sex'].value_counts().plot(kind='pie')\n",
    "plt.show()"
   ]
  },
  {
   "cell_type": "markdown",
   "metadata": {},
   "source": [
    "**ANSWER:** they are representing the amount of tips in two different ways, as a barplot of total counts and as a percentage of the total tips."
   ]
  },
  {
   "cell_type": "markdown",
   "metadata": {
    "id": "H1S9RuQLUsHg"
   },
   "source": [
    "**EX29**: Look at the following code. Its output is similar to the previous exercise but the subplots are swaped. Modify the code to have the same order: i.e. first subplot should be barplot and the second one, the pie chart."
   ]
  },
  {
   "cell_type": "code",
   "execution_count": null,
   "metadata": {
    "colab": {
     "base_uri": "https://localhost:8080/",
     "height": 481
    },
    "executionInfo": {
     "elapsed": 933,
     "status": "ok",
     "timestamp": 1695460533968,
     "user": {
      "displayName": "MIGUEL ANGEL CORDOBES ARANDA",
      "userId": "03161467566781317935"
     },
     "user_tz": -120
    },
    "id": "Xa70EjqVf0Mc",
    "outputId": "0cf77455-0de6-4ce4-b354-03567e30c50d",
    "trusted": true
   },
   "outputs": [],
   "source": [
    "fig, axes=plt.subplots(1,2,figsize=(15,5))\n",
    "tips['sex'].value_counts().plot(kind='bar',ax=axes[0])\n",
    "tips['sex'].value_counts().plot(kind='pie',ax=axes[1])\n",
    "plt.show()"
   ]
  }
 ],
 "metadata": {
  "colab": {
   "provenance": []
  },
  "kernelspec": {
   "display_name": ".venv",
   "language": "python",
   "name": "python3"
  },
  "language_info": {
   "codemirror_mode": {
    "name": "ipython",
    "version": 3
   },
   "file_extension": ".py",
   "mimetype": "text/x-python",
   "name": "python",
   "nbconvert_exporter": "python",
   "pygments_lexer": "ipython3",
   "version": "3.13.7"
  }
 },
 "nbformat": 4,
 "nbformat_minor": 0
}
